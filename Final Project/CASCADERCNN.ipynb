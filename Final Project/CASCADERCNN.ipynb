{
 "cells": [
  {
   "cell_type": "markdown",
   "id": "9d7f75a8-c52e-44f2-833b-c3185cd05ab1",
   "metadata": {},
   "source": [
    "<h1><center>COVID-19. Детекция Атипичной пневмонии по рентгеновским снимкам</center></h1>\n",
    "\n",
    "<p style='text-align: center;'><span style=\"color: #000508; font-family: Segoe UI; font-size: 2.5em; font-weight: 300;\">Детекция Атипичной пневмонии по рентгеновским снимкам</span></p>"
   ]
  },
  {
   "cell_type": "markdown",
   "id": "78d44bd9-6aac-4056-a1ca-4d5d9cc46b88",
   "metadata": {},
   "source": [
    "![](https://www.asme.org/getmedia/86f7ec3b-0483-4660-bc59-b1fb061b0700/050520_computational-lung-model-may-guide-how-ventilators-are-usedlungs-3d_hero.jpg?width=920&height=720&ext=.jpg)\n",
    "\n",
    "<p style='text-align: right;'><span style=\"color: #0098f3; font-family: Segoe UI; font-size: 0.7em; font-weight: 300;\">Image Source: https://www.asme.org/topics-resources/content/computational-lung-model-may-guide-how-ventilators-are-used</span></p>\n",
    "\n",
    "<p style='text-align: center;'><span style=\"color: #0098f3; font-family: Segoe UI; font-size: 2.5em; font-weight: 300;\">MMDetection+CascadeRCNN+Weight&Bias</span></p>"
   ]
  },
  {
   "cell_type": "markdown",
   "id": "b1d4f418-b847-4d55-9d68-52708c723f70",
   "metadata": {},
   "source": [
    "<h2 class=\"list-group-item list-group-item-action active\" data-toggle=\"list\" style='background:blue; border:0; color:white' role=\"tab\" aria-controls=\"home\"><center>[MMDetection+CascadeRCNN+Weight]</center></h2>"
   ]
  },
  {
   "cell_type": "markdown",
   "id": "b5aaa593-fff1-4205-9537-d5ea6b11bb10",
   "metadata": {},
   "source": [
    "<span style=\"color: #E45D00; font-family: Segoe UI; font-size: 1.9em; font-weight: 300;\">Overview</span>\n",
    "\n",
    "&nbsp;&nbsp;✅&nbsp;&nbsp;MMDetection and Weights & Biases Setup<br>\n",
    "&nbsp;&nbsp;✅&nbsp;&nbsp;Preparation of MMDetection Config<br>\n",
    "&nbsp;&nbsp;✅&nbsp;&nbsp;Weights & Biases Integration<br>\n",
    "&nbsp;&nbsp;✅&nbsp;&nbsp;Training and Evaluation<br>\n",
    "&nbsp;&nbsp;✅&nbsp;&nbsp;Experiment Tracking and Logging with Weights & Biases<br>\n",
    "&nbsp;&nbsp;✅&nbsp;&nbsp;Storing Model Files as Artifacts<br>\n",
    "&nbsp;&nbsp;✅&nbsp;&nbsp;Inference<br>\n",
    "&nbsp;&nbsp;✅&nbsp;&nbsp;Interactive Analysis & Visualization<br>"
   ]
  },
  {
   "cell_type": "markdown",
   "id": "ba0d5882-12e5-4c75-8e5c-df8f7c665471",
   "metadata": {},
   "source": [
    "<span style=\"color: #E45D00; font-family: Segoe UI; font-size: 1.9em; font-weight: 300;\">MMDetection</span>\n",
    "\n",
    "MMDetection — это набор инструментов с открытым исходным кодом, основанный на PyTorch для задач обнаружения и сегментации объектов. Набор инструментов поддерживает более **50+ бэйзлайнов**.\n",
    "\n",
    "<span style=\"color: #0098f3; font-family: Segoe UI; font-size: 1.4em;\">🧫 Features:</span>\n",
    "\n",
    "<p style='text-align: justify; font-family: Segoe UI;'><span style=\"color: #808080;  font-size: 1.1em; font-weight: 600;\">Modular Design</span>: Фреймворк разделен на разные компоненты, и мы можем легко создать и настраивать фреймворк обнаружения объектов, комбинируя разные модули. .</p>\n",
    "\n",
    "<p style='text-align: justify; font-family: Segoe UI;'><span style=\"color: #808080;  font-size: 1.1em; font-weight: 600;\">Support of multiple frameworks out of box</span>: Набор инструментов (Toolbox) поддерживает популярные и современные платформы обнаружения, например Faster RCNN, Mask RCNN, RetinaNet, etc.</p>\n",
    "\n",
    "<p style='text-align: justify; font-family: Segoe UI;'><span style=\"color: #808080;  font-size: 1.1em; font-weight: 600;\">High efficiency</span>: Все основные операции bbox и mask выполняются на графических процессорах. Скорость обучения выше или сравнима с другими кодовыми базами, включая Detectron2, maskrcnn-benchmark и SimpleDet. (Вот и посмотрим)</p>\n",
    "\n",
    "<p style='text-align: justify; font-family: Segoe UI;'><span style=\"color: #808080;  font-size: 1.1em; font-weight: 600;\">State of the art</span>: Набор инструментов основан на кодовой базе, разработанной командой MMDet, выигравшей COCO Detection Challenge в 2018 году. </p>\n",
    "\n",
    "\n",
    "<span style=\"color: #E45D00; font-family: Segoe UI; font-size: 1.9em; font-weight: 300;\">Supported Backbones:</span>\n",
    "\n",
    "<table style=\"align:left; display:block\">\n",
    "<thead>\n",
    "<tr>\n",
    "<th></th>\n",
    "<th></th>\n",
    "</tr>\n",
    "</thead>\n",
    "<tbody>\n",
    "<tr>\n",
    "<td>ResNet (CVPR'2016)</td>\n",
    "<td>RegNet (CVPR'2020)</td>\n",
    "</tr>\n",
    "<tr>\n",
    "<td>ResNeXt (CVPR'2017)</td>\n",
    "<td>Res2Net (TPAMI'2020)</td>\n",
    "</tr>\n",
    "<tr>\n",
    "<td>VGG (ICLR'2015)</td>\n",
    "<td>ResNeSt (ArXiv'2020)</td>\n",
    "</tr>\n",
    "<tr>\n",
    "<td>HRNet (CVPR'2019)</td>\n",
    "<td></td>\n",
    "</tr>\n",
    "</tbody>\n",
    "</table>"
   ]
  },
  {
   "cell_type": "markdown",
   "id": "6e322607-e135-4df3-b0d0-eac87bebf0d7",
   "metadata": {},
   "source": [
    "<span style=\"color: #E45D00; font-family: Segoe UI; font-size: 1.9em; font-weight: 300; align:left\">Weights & Biases </span>\n",
    "\n",
    "\n",
    "Weights & Biases helps us build better models faster with a central dashboard for machine learning projects. It helps to log the hyperparameters, output metrics and images from runs, then visualize and compare results with ease from anywhere.\n",
    "\n",
    "It helps a lot in managing and tracking experiments during rapid prototyping and development by enabling advanced monitoring and visualization of ML processes with minimal integration effort.\n",
    "\n",
    "**As Kaggle notebooks do not allow running aditional scripts in parallel or hosting pages for logging (which is required in Tensorboard or other IPython tools), Weights & Biases seems to be the most viable option for monitoring training live, while it is in progress.**\n",
    "\n",
    "**It also provides free SaaS hosting and 100 GB storage for a single member.**\n",
    "\n",
    "<br>\n",
    "\n",
    "![](https://i.ibb.co/ZhpRGJP/gif1.gif)\n",
    "\n",
    "<span style=\"color: #000508; font-family: Segoe UI; font-size: 1.4em;\">Highlights:</span>\n",
    "\n",
    "<p style='text-align: justify; font-family: Segoe UI;'><span style=\"color: #808080;  font-size: 1.1em; font-weight: 600;\">Train Anywhere</span>: The W&B dashboard is centralized - whether you're training on a local machine, lab cluster, or spot instances in the cloud, all of your results get logged to a single place.</p>\n",
    "\n",
    "<p style='text-align: justify; font-family: Segoe UI;'><span style=\"color: #808080;  font-size: 1.1em; font-weight: 600;\">Visualize Seamlessly</span>: Add W&B's lightweight integration to your existing ML code and quickly get live metrics, terminal logs, and system stats streamed to the centralized dashboard.\n",
    "</p>\n",
    "\n",
    "<p style='text-align: justify; font-family: Segoe UI;'><span style=\"color: #808080;  font-size: 1.1em; font-weight: 600;\">Stay Organized</span>: W&B logs data into powerful, querably tables that you can search, filter, sort, and group. This makes it easy to compare thousands of different models and find the best performing model for different tasks.</p>\n",
    "\n",
    "<p style='text-align: justify; font-family: Segoe UI;'><span style=\"color: #808080;  font-size: 1.1em; font-weight: 600;\">Collaborate in Real-time</span>: Explain how your model works, show graphs of how model versions improved, discuss bugs, and demonstrate progress towards milestones.</p>\n",
    "\n",
    "<p style='text-align: justify; font-family: Segoe UI;'><span style=\"color: #808080;  font-size: 1.1em; font-weight: 600;\">Designed for all use cases</span>: Never lose track of another ML project.</p>\n",
    "\n",
    "<p style='text-align: justify; font-family: Segoe UI;'><span style=\"color: #808080;  font-size: 1.1em; font-weight: 600;\">Logged Automatically</span>: System metrics such as the CPU and GPU utilization, network, etc are shown in the System tab on the run page. For the GPU, these are fetched with nvidia-smi. The stdout and stderr from the running shell, are picked up and shown in the logs tab on the run page.</p>\n",
    "\n",
    "<br>\n",
    "<span style=\"color: #808080; font-family: Segoe UI; font-size: 1.4em;\">🎆 References:</span>\n",
    "\n",
    "- **[@ayuraj](https://www.kaggle.com/ayuraj)**\n",
    "    - https://www.kaggle.com/ayuraj/train-covid-19-detection-using-yolov5\n",
    "    - https://www.kaggle.com/sreevishnudamodaran/vinbigdata-fusing-bboxes-coco-dataset\n"
   ]
  },
  {
   "cell_type": "markdown",
   "id": "68cec88c-190a-44e5-8ab6-7228926a1d13",
   "metadata": {},
   "source": [
    "<span style=\"color: #E45D00; font-family: Segoe UI; font-size: 1.9em; font-weight: 300;\">📐 Setup MMDetection</span>"
   ]
  },
  {
   "cell_type": "code",
   "execution_count": null,
   "id": "f4b68dbe-7860-44a5-9e92-31bc3d191ab6",
   "metadata": {},
   "outputs": [],
   "source": [
    "#!pip install mmcv-full==1.3.8 -f https://download.openmmlab.com/mmcv/dist/cu110/torch1.7.0/index.html > /dev/null\n",
    "\n",
    "# !git clone https://github.com/open-mmlab/mmdetection.git\n",
    "# !cd mmdetection && pip install -e .\n",
    "\n",
    "# !pip install Pillow==7.0.0\n",
    "\n",
    "# !rm -rf mmdetection"
   ]
  },
  {
   "cell_type": "markdown",
   "id": "8c7fdc28-638f-4931-a4c1-6f15d547f2ff",
   "metadata": {},
   "source": [
    "<span style=\"color: #E45D00; font-family: Segoe UI; font-size: 1.9em; font-weight: 300;\">📐 Setup W&B</span>"
   ]
  },
  {
   "cell_type": "code",
   "execution_count": null,
   "id": "54c89edf-fb52-4c56-9f5f-78bbd1c328d6",
   "metadata": {},
   "outputs": [],
   "source": [
    "# !pip install wandb --upgrade > dev/null"
   ]
  },
  {
   "cell_type": "markdown",
   "id": "075b2dd6-0a91-4301-923b-7c3e1bba2e78",
   "metadata": {},
   "source": [
    "\n",
    "Чтобы подключить ноутбук и войти в Weights & Biases, нам нужно создать ключ API:\n",
    "\n",
    "1. Новые пользователи могут зарегистрировать учетную запись Free Weights & Biases для исследований и личного использования на странице https://wandb.ai\n",
    "2. API key получимтут https://wandb.ai/authorize.\n",
    "\n",
    "Залогинится в Weights & Biases из ноутбука с помошью API можно двумя способами:\n",
    "Login to Weights & Biases from the notebook with the API key by using any of the two methods below:"
   ]
  },
  {
   "cell_type": "code",
   "execution_count": 1,
   "id": "84729e0f-4658-4954-bb3e-ea01a626314a",
   "metadata": {},
   "outputs": [
    {
     "name": "stderr",
     "output_type": "stream",
     "text": [
      "\u001B[34m\u001B[1mwandb\u001B[0m: W&B API key is configured (use `wandb login --relogin` to force relogin)\n",
      "/home/paul/MFTI/Final Project/venv/lib/python3.8/site-packages/IPython/html.py:12: ShimWarning: The `IPython.html` package has been deprecated since IPython 4.0. You should import from `notebook` instead. `IPython.html.widgets` has moved to `ipywidgets`.\n",
      "  warn(\"The `IPython.html` package has been deprecated since IPython 4.0. \"\n"
     ]
    },
    {
     "data": {
      "text/html": [
       "\n",
       "                    Syncing run <strong><a href=\"https://wandb.ai/paul_dark/Covid-19%20MMDetection/runs/1x0nfreg\" target=\"_blank\">youthful-totem-9</a></strong> to <a href=\"https://wandb.ai/paul_dark/Covid-19%20MMDetection\" target=\"_blank\">Weights & Biases</a> (<a href=\"https://docs.wandb.com/integrations/jupyter.html\" target=\"_blank\">docs</a>).<br/>\n",
       "\n",
       "                "
      ],
      "text/plain": [
       "<IPython.core.display.HTML object>"
      ]
     },
     "metadata": {},
     "output_type": "display_data"
    },
    {
     "data": {
      "text/html": [
       "<button onClick=\"this.nextSibling.style.display='block';this.style.display='none';\">Display W&B run</button><iframe src=\"https://wandb.ai/paul_dark/Covid-19%20MMDetection/runs/1x0nfreg?jupyter=true\" style=\"border:none;width:100%;height:420px;display:none;\"></iframe>"
      ],
      "text/plain": [
       "<wandb.sdk.wandb_run.Run at 0x7f6b4bfa12e0>"
      ]
     },
     "execution_count": 1,
     "metadata": {},
     "output_type": "execute_result"
    }
   ],
   "source": [
    "import wandb\n",
    "wandb.init(project=\"Covid-19 MMDetection\", entity=\"paul_dark\")"
   ]
  },
  {
   "cell_type": "markdown",
   "id": "3d09e24e-89a6-41ed-8261-199cc37a5c9b",
   "metadata": {},
   "source": [
    "# Импорт Библиотек"
   ]
  },
  {
   "cell_type": "code",
   "execution_count": 3,
   "id": "4cce5a49-d4cd-4876-b7db-770c8b86f33c",
   "metadata": {},
   "outputs": [],
   "source": [
    "import os\n",
    "import torch, torchvision\n",
    "from mmcv.ops import get_compiling_cuda_version, get_compiler_version\n",
    "\n",
    "# Check MMDetection installation\n",
    "from mmdet.apis import set_random_seed\n",
    "\n",
    "# Imports\n",
    "import mmdet\n",
    "from mmdet.apis import set_random_seed\n",
    "from mmdet.datasets import build_dataset\n",
    "from mmdet.models import build_detector\n",
    "from mmdet.apis import train_detector\n",
    "\n",
    "import random\n",
    "import numpy as np\n",
    "from pathlib import Path\n",
    "\n",
    "import config\n",
    "from config import Flags"
   ]
  },
  {
   "cell_type": "code",
   "execution_count": 4,
   "id": "bf96dd67-6495-4f9e-ab28-544cb9eef947",
   "metadata": {},
   "outputs": [
    {
     "name": "stdout",
     "output_type": "stream",
     "text": [
      "1.10.1+cu113 True\n",
      "11.3\n",
      "GCC 7.3\n"
     ]
    }
   ],
   "source": [
    "print(torch.__version__, torch.cuda.is_available())\n",
    "print(get_compiling_cuda_version())\n",
    "print(get_compiler_version())"
   ]
  },
  {
   "cell_type": "code",
   "execution_count": 5,
   "id": "3fbdfa5a-6ea4-4755-b116-be469634be4f",
   "metadata": {},
   "outputs": [],
   "source": [
    "def set_random(seed=0):\n",
    "    \"\"\"Sets the random seeds.\"\"\"\n",
    "    set_random_seed(seed, deterministic=False)\n",
    "    random.seed(seed)\n",
    "    np.random.seed(seed)\n",
    "    torch.manual_seed(seed)\n",
    "    torch.cuda.manual_seed(seed)\n",
    "    torch.backends.cudnn.deterministic = True\n",
    "    torch.backends.cudnn.benchmark = False\n",
    "    os.environ['PYTHONHASHSEED'] = str(seed)\n",
    "\n",
    "set_random(config.SEED)"
   ]
  },
  {
   "cell_type": "markdown",
   "id": "615dc7f7",
   "metadata": {
    "pycharm": {
     "name": "#%% md\n"
    }
   },
   "source": [
    "<span style=\"color: #E45D00; font-family: Segoe UI; font-size: 1.9em; font-weight: 300;\">🔨 Prepare the MMDetection Config</span>"
   ]
  },
  {
   "cell_type": "code",
   "execution_count": 6,
   "id": "87358703",
   "metadata": {
    "pycharm": {
     "name": "#%%\n"
    }
   },
   "outputs": [],
   "source": [
    "from mmcv import Config as conff\n",
    "baseline_cfg_path = './mmdetection/configs/cascade_rcnn/cascade_rcnn_x101_32x4d_fpn_1x_coco.py'\n",
    "cfg = conff.fromfile(baseline_cfg_path)"
   ]
  },
  {
   "cell_type": "markdown",
   "id": "88ef4308",
   "metadata": {
    "pycharm": {
     "name": "#%% md\n"
    }
   },
   "source": [
    "# General Settings"
   ]
  },
  {
   "cell_type": "code",
   "execution_count": 7,
   "id": "1ce14918",
   "metadata": {
    "pycharm": {
     "name": "#%%\n"
    },
    "scrolled": true
   },
   "outputs": [
    {
     "name": "stdout",
     "output_type": "stream",
     "text": [
      "Job Folder: ./cascade out/job4_cascade_rcnn_x101_32x4d_fpn_1x_fold0\n"
     ]
    }
   ],
   "source": [
    "model_name = 'cascade_rcnn_x101_32x4d_fpn_1x'\n",
    "fold = 0\n",
    "job = 4\n",
    "\n",
    "# Folder to store model logs and weight files\n",
    "job_folder = f'{config.CASCADE_OUT}/job{job}_{model_name}_fold{fold}'\n",
    "cfg.work_dir = job_folder\n",
    "\n",
    "# Set seed thus the results are more reproducible\n",
    "cfg.seed = config.SEED\n",
    "\n",
    "if not os.path.exists(job_folder):\n",
    "    os.makedirs(job_folder)\n",
    "\n",
    "print(\"Job Folder:\", job_folder)"
   ]
  },
  {
   "cell_type": "markdown",
   "id": "1cb55b3d",
   "metadata": {},
   "source": [
    "Ниже в ячейке мы установим количество классов = 1. Почему?\n",
    "Ведь у нас четыре класса исследований, как было показано в ноутбуке с Анализом (EDA).\n",
    "\n",
    "Все дело в том, что детекция объекта на изображении имеет лишь один класс в исходных аннотациях, но это может быть преобразованно в проблему обнаружения трех классов путем назначения метки классификации исследования  в качестве bbox'a. Таким образом не будет 4 классов, поскольку изображения с меткой уровня исследования «Negative for Pneumonia» не будут иметь ограничивающих рамок. \n"
   ]
  },
  {
   "cell_type": "code",
   "execution_count": 12,
   "id": "3b644835",
   "metadata": {},
   "outputs": [],
   "source": [
    "# Set the number of classes\n",
    "for head in cfg.model.roi_head.bbox_head:\n",
    "    head.num_classes = 1\n",
    "    \n",
    "cfg.gpu_ids = [0]\n",
    "\n",
    "# Setting pretrained model in the init_cfg which is required \n",
    "# for transfer learning as per the latest MMdetection update\n",
    "cfg.model.backbone.init_cfg=dict(type='Pretrained', checkpoint='torchvision://resnet50')\n",
    "cfg.model.backbone.init_cfg=dict(type='Pretrained', checkpoint='open-mmlab://resnext101_32x4d')\n",
    "cfg.model.pop('pretrained', None)\n",
    "\n",
    "# Epochs for the runner that runs the workflow \n",
    "cfg.runner.max_epochs = 12\n",
    "cfg.total_epochs = 12\n",
    "\n",
    "# Learning rate of optimizers. The LR is divided by 8 since the config file is originally for 8 GPUs\n",
    "cfg.optimizer.lr = 0.02/8\n",
    "\n",
    "## Learning rate scheduler config used to register LrUpdater hook\n",
    "cfg.lr_config = dict(\n",
    "    policy='CosineAnnealing', # The policy of scheduler, also support CosineAnnealing, Cyclic, etc. Refer to details of supported LrUpdater from https://github.com/open-mmlab/mmcv/blob/master/mmcv/runner/hooks/lr_updater.py#L9.\n",
    "    by_epoch=False,\n",
    "    warmup='linear', # The warmup policy, also support `exp` and `constant`.\n",
    "    warmup_iters=500, # The number of iterations for warmup\n",
    "    warmup_ratio=0.001, # The ratio of the starting learning rate used for warmup\n",
    "    min_lr=1e-07)\n",
    "# config to register logger hook\n",
    "cfg.log_config.interval = 20 # Interval to print the log\n",
    "\n",
    "# Config to set the checkpoint hook, Refer to https://github.com/open-mmlab/mmcv/blob/master/mmcv/runner/hooks/checkpoint.py for implementation.\n",
    "cfg.checkpoint_config.interval = 1 # The save interval is 1"
   ]
  },
  {
   "cell_type": "code",
   "execution_count": null,
   "outputs": [],
   "source": [],
   "metadata": {
    "collapsed": false,
    "pycharm": {
     "name": "#%%\n"
    }
   }
  },
  {
   "cell_type": "markdown",
   "id": "ec1676a6",
   "metadata": {},
   "source": [
    "## Configure Datasets for Training and Evaluation"
   ]
  },
  {
   "cell_type": "code",
   "execution_count": null,
   "id": "002aceec",
   "metadata": {},
   "outputs": [],
   "source": [
    "cfg.dataset_type = 'CocoDataset' # Dataset type, this will be used to define the dataset\n",
    "cfg.classes = (\"Covid_Abnormality\",)\n",
    "\n",
    "cfg.data.train.img_prefix = f'{config.DATA_ROOT_RESIZED}/train'\n",
    "cfg.data.train.classes = cfg.classes\n"
   ]
  }
 ],
 "metadata": {
  "kernelspec": {
   "display_name": "Python 3 (ipykernel)",
   "language": "python",
   "name": "python3"
  },
  "language_info": {
   "codemirror_mode": {
    "name": "ipython",
    "version": 3
   },
   "file_extension": ".py",
   "mimetype": "text/x-python",
   "name": "python",
   "nbconvert_exporter": "python",
   "pygments_lexer": "ipython3",
   "version": "3.8.10"
  },
  "toc": {
   "base_numbering": 1,
   "nav_menu": {},
   "number_sections": true,
   "sideBar": true,
   "skip_h1_title": false,
   "title_cell": "Table of Contents",
   "title_sidebar": "Contents",
   "toc_cell": false,
   "toc_position": {},
   "toc_section_display": true,
   "toc_window_display": false
  },
  "varInspector": {
   "cols": {
    "lenName": 16,
    "lenType": 16,
    "lenVar": 40
   },
   "kernels_config": {
    "python": {
     "delete_cmd_postfix": "",
     "delete_cmd_prefix": "del ",
     "library": "var_list.py",
     "varRefreshCmd": "print(var_dic_list())"
    },
    "r": {
     "delete_cmd_postfix": ") ",
     "delete_cmd_prefix": "rm(",
     "library": "var_list.r",
     "varRefreshCmd": "cat(var_dic_list()) "
    }
   },
   "types_to_exclude": [
    "module",
    "function",
    "builtin_function_or_method",
    "instance",
    "_Feature"
   ],
   "window_display": false
  }
 },
 "nbformat": 4,
 "nbformat_minor": 5
}