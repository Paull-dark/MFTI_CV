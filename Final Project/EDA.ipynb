{
 "cells": [
  {
   "cell_type": "markdown",
   "id": "14ec4c3b-0496-4c17-9da5-e292a39652ff",
   "metadata": {
    "tags": []
   },
   "source": [
    "<h1><center>COVID-19. Детекция Атипичной пневмонии по рентгеновским снимкам</center></h1>\n",
    "\n",
    "<center><img src = \"https://ichef.bbci.co.uk/news/800/cpsprodpb/1EA6/production/_110764870_coronavirusmedium.jpg.webp\" width = \"750\" height = \"500\"/></center>"
   ]
  },
  {
   "cell_type": "markdown",
   "id": "dda949ab-23e0-4000-81bb-ade47db92f0c",
   "metadata": {},
   "source": [
    "<h2 class=\"list-group-item list-group-item-action active\" data-toggle=\"list\" style='background:blue; border:0; color:white' role=\"tab\" aria-controls=\"home\"><center>[Ноутбук Анализа Данных]</center></h2>"
   ]
  },
  {
   "cell_type": "markdown",
   "id": "89317ce5-374b-46f9-8b5c-3d25d9ecebd9",
   "metadata": {},
   "source": [
    "# Введение"
   ]
  },
  {
   "cell_type": "markdown",
   "id": "9db2c5a1-0358-4e8b-808c-8175d5bf8256",
   "metadata": {},
   "source": [
    "- В настоящее время существуют несколько способов диагностирования COVID-19. Наиболее распространенные методы:\n",
    "    - с помощью полимеразной цепной реакции для обнаружения генетического материала вируса.\n",
    "    - рентген грудной клетки. \n",
    "  Однако может пройти несколько часов, а иногда и дней, прежде чем результаты молекулярных тестов могут быть получены. Напротив, рентг грудной клетки можно получить за считанные минуты.\n",
    "  \n",
    "- В этом проекте я попытаюсь определить и локализовать аномалии в грудных клетках людей (на рентген снимках). В частности, попробуем классифицировать различного рода пневмонии.(Атипичная(COVID-19) и типичная)\n",
    "\n",
    "- Этот проект может помочь докторам более быстро и точно диагностировать тысячи пациентов с подозрением на это заболевание.\n"
   ]
  },
  {
   "cell_type": "markdown",
   "id": "64fb3ad0-f140-4438-9137-e711fbe25477",
   "metadata": {},
   "source": [
    "Данные взяты из [kaggle](https://www.kaggle.com/c/siim-covid19-detection/data)"
   ]
  },
  {
   "cell_type": "markdown",
   "id": "3e0386cd-f842-4895-86a2-bf733d1a38b1",
   "metadata": {
    "tags": []
   },
   "source": [
    "## Файлы данных"
   ]
  },
  {
   "cell_type": "markdown",
   "id": "f8ace445-494a-4b84-b48d-242ce043dab0",
   "metadata": {},
   "source": [
    " - **Train folder**: включает 6334 скана грудной клетки в формате DICOM.\n",
    " - Все изображения хранятся в путях с формой  *study/series/image*\n",
    "      - **study**: ID иследования напрямую связан с прогнозом на уровне исследования\n",
    "      - **image:** - ID изображения\n",
    "  - **Test folder**: Тут все ясно\n",
    "  - **Train_study_level.csv**: Метаданные с строкой для каждого исследования, включая правильный лэйбл\n",
    "  - **train_image_level.csv**: Метаданные уровня тренировочного изображения, с одной строкой для каждого изображения, включая правильные метки и  рамки в формате словаря. Некоторые изображения как в тесте, так и в трэйне имеют несколько рамок."
   ]
  },
  {
   "cell_type": "markdown",
   "id": "0b73016f-35b1-4fa7-b30c-127376bc5814",
   "metadata": {},
   "source": [
    "## Колонки файлов .CSV"
   ]
  },
  {
   "cell_type": "markdown",
   "id": "d8eb3487-3b98-42b9-869f-399f56489726",
   "metadata": {},
   "source": [
    "**train_study_level.csv**\n",
    "   - id:unique study identifier\n",
    "   - **Negative for Pneumonia**: 1, если исследование на пневмонию отрицательное, 0 в противном случае\n",
    "   - **Typical Appearance**: 1, если исследование имеет типичный вид, 0 в противном случае\n",
    "   - **Indeterminate Appearance**:  1, если исследование имеет промежуточный вид, 0 в противном случае\n",
    "   - **Atypical Appearance**: 1, если исследование имеет Атипичный вид, 0 в противном случае\n",
    "   "
   ]
  },
  {
   "cell_type": "markdown",
   "id": "7eb6a624-d403-48ae-8cde-880d68614511",
   "metadata": {},
   "source": [
    "1. Normal chest X-ray(Negative). - Рентген грудной клетки нередко бывает нормальным на ранней стадии заболевания, поэтому нормальный рентген не исключает инфекции. \n",
    "\n",
    "2. Typical Appearance - Типичные признаки заболевания на снимках. Они включают ретикулярный узор, матовые помутнения и уплотнения с округлой морфологией и сливным или пятнистым мультифокальным распределением. Распространение обычно двустороннее и периферическое, с преобладанием в нижних полях.\n",
    "\n",
    "3. Indeterminate. Неопределенные признаки. Неопределенные признаки, которые могут иметь место в случаях пневмонии COVID-19, могут иметь другие причины. К ним относятся уплотнения и помутнения матового стекла с односторонним, центральным или верхнедолевым распределением. Дифференциальный диагноз включает другие инфекции и альвеолярный отек. \n",
    "\n",
    "4. Atypical Appearance.  Атипичные признаки, необычные, не связываемые с COVID-19.  К ним относятся дольчатая консолидация, узелки или образования в легких, милиарный паттерн, кавитация и плевральный выпот, о которых сообщалось только у 3% пациентов и которые более типичны для запущенного заболевания. "
   ]
  },
  {
   "cell_type": "markdown",
   "id": "ad001c17-09a1-4876-a2af-6d751b47ddfb",
   "metadata": {},
   "source": [
    "# Импорт Библиотек"
   ]
  },
  {
   "cell_type": "code",
   "execution_count": 5,
   "id": "fe72d192-f002-4b4e-95b8-773f8905b2b3",
   "metadata": {},
   "outputs": [],
   "source": [
    "import numpy as np\n",
    "import pandas as pd\n",
    "from matplotlib.lines import Line2D\n",
    "import plotly.express as px\n",
    "import seaborn as sns\n",
    "import warnings"
   ]
  },
  {
   "cell_type": "code",
   "execution_count": 6,
   "id": "5cffe025-17d3-4723-8ecb-5db02f94dc42",
   "metadata": {},
   "outputs": [],
   "source": [
    "warnings.filterwarnings('ignore')"
   ]
  },
  {
   "cell_type": "code",
   "execution_count": null,
   "id": "0f73251c-6d5d-42c0-9ddc-f8334c549715",
   "metadata": {},
   "outputs": [],
   "source": []
  }
 ],
 "metadata": {
  "kernelspec": {
   "display_name": "Python 3 (ipykernel)",
   "language": "python",
   "name": "python3"
  },
  "language_info": {
   "codemirror_mode": {
    "name": "ipython",
    "version": 3
   },
   "file_extension": ".py",
   "mimetype": "text/x-python",
   "name": "python",
   "nbconvert_exporter": "python",
   "pygments_lexer": "ipython3",
   "version": "3.8.10"
  },
  "toc": {
   "base_numbering": 1,
   "nav_menu": {},
   "number_sections": true,
   "sideBar": true,
   "skip_h1_title": false,
   "title_cell": "Table of Contents",
   "title_sidebar": "Contents",
   "toc_cell": false,
   "toc_position": {},
   "toc_section_display": true,
   "toc_window_display": false
  },
  "varInspector": {
   "cols": {
    "lenName": 16,
    "lenType": 16,
    "lenVar": 40
   },
   "kernels_config": {
    "python": {
     "delete_cmd_postfix": "",
     "delete_cmd_prefix": "del ",
     "library": "var_list.py",
     "varRefreshCmd": "print(var_dic_list())"
    },
    "r": {
     "delete_cmd_postfix": ") ",
     "delete_cmd_prefix": "rm(",
     "library": "var_list.r",
     "varRefreshCmd": "cat(var_dic_list()) "
    }
   },
   "types_to_exclude": [
    "module",
    "function",
    "builtin_function_or_method",
    "instance",
    "_Feature"
   ],
   "window_display": false
  }
 },
 "nbformat": 4,
 "nbformat_minor": 5
}
