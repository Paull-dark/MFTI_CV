{
 "cells": [
  {
   "cell_type": "markdown",
   "id": "2931595e-d123-4642-a2e9-38e6fffb16fe",
   "metadata": {},
   "source": [
    "<h1><center>COVID-19. Детекция Атипичной пневмонии по рентгеновским снимкам</center></h1>\n",
    "\n",
    "<center><img src = \"https://ichef.bbci.co.uk/news/800/cpsprodpb/1EA6/production/_110764870_coronavirusmedium.jpg.webp\" width = \"750\" height = \"500\"/></center>"
   ]
  },
  {
   "cell_type": "markdown",
   "id": "0667339a-90ee-4fd0-85b3-ef6d4845c4d7",
   "metadata": {},
   "source": [
    "<h2 class=\"list-group-item list-group-item-action active\" data-toggle=\"list\" style='background:blue; border:0; color:white' role=\"tab\" aria-controls=\"home\"><center>[Трнировка Модели]</center></h2>"
   ]
  },
  {
   "cell_type": "markdown",
   "id": "9437f6af-edd5-4f5b-bce1-85c8d525bab7",
   "metadata": {},
   "source": [
    "### Ссылки\n",
    "\n",
    "[Detectron_offical](https://github.com/facebookresearch/detectron2)\n",
    "\n",
    "[VinBigData detectron2](https://www.kaggle.com/corochann/vinbigdata-detectron2-train)"
   ]
  },
  {
   "cell_type": "markdown",
   "id": "0cb15825-e8e1-40aa-9e62-64d54ffa9b3d",
   "metadata": {},
   "source": [
    "В качестве фреймворка я выбрал Detectron2 по ряду причин:\n",
    "\n",
    "    - Субъективно нравится\n",
    "    - Понятный мануал\n",
    "    - Неплохие результаты ( пробовал его в соревновании на Кагле)\n",
    "    - Возможность гибкой настройки обучения"
   ]
  },
  {
   "cell_type": "markdown",
   "id": "48eaf746-360c-4b9f-bcfe-60d6ed6c400b",
   "metadata": {},
   "source": [
    "**DETECTRON2**\n",
    "\n",
    "Detectron2 - это система нового поколения от Facebook AI Research, реализующая самые современные алгоритмы обнаружения объектов."
   ]
  },
  {
   "cell_type": "markdown",
   "id": "94f3c911-9ca5-4485-9d7f-f251f2bd1942",
   "metadata": {},
   "source": [
    "# Импорт Библиотек"
   ]
  },
  {
   "cell_type": "code",
   "execution_count": 8,
   "id": "be8f6b49-b8f6-4c10-a8e0-47137e4c95a5",
   "metadata": {},
   "outputs": [],
   "source": [
    "import numpy as np \n",
    "import pandas as pd \n",
    "from datetime import datetime\n",
    "import time\n",
    "from tqdm import tqdm_notebook as tqdm # progress bar\n",
    "import matplotlib.pyplot as plt\n",
    "\n",
    "import os, json, cv2, random\n",
    "import skimage.io as io\n",
    "import copy\n",
    "import pickle\n",
    "from pathlib import Path\n",
    "from typing import Optional\n",
    "\n",
    "import torch\n",
    "\n",
    "# Albumenatations\n",
    "import albumentations as A\n",
    "from albumentations.pytorch.transforms import ToTensorV2\n",
    "\n",
    "import warnings\n",
    "\n",
    "import config"
   ]
  },
  {
   "cell_type": "code",
   "execution_count": 10,
   "id": "a5bd0824-b9a2-4244-8d37-222153816340",
   "metadata": {},
   "outputs": [
    {
     "data": {
      "text/plain": [
       "<Logger detectron2 (DEBUG)>"
      ]
     },
     "execution_count": 10,
     "metadata": {},
     "output_type": "execute_result"
    }
   ],
   "source": [
    "# detectron2\n",
    "from detectron2.structures import BoxMode\n",
    "from detectron2 import model_zoo\n",
    "from detectron2.config import get_cfg\n",
    "from detectron2.data import DatasetCatalog, MetadataCatalog\n",
    "from detectron2.engine import DefaultPredictor, DefaultTrainer, launch\n",
    "from detectron2.evaluation import COCOEvaluator\n",
    "from detectron2.structures import BoxMode\n",
    "from detectron2.utils.visualizer import ColorMode\n",
    "from detectron2.utils.logger import setup_logger\n",
    "from detectron2.utils.visualizer import Visualizer\n",
    "\n",
    "from detectron2.data import DatasetCatalog, MetadataCatalog, build_detection_test_loader, build_detection_train_loader\n",
    "from detectron2.data import detection_utils as utils\n",
    "\n",
    "\n",
    "from detectron2.data import DatasetCatalog, MetadataCatalog, build_detection_test_loader, build_detection_train_loader\n",
    "from detectron2.data import detection_utils as utils\n",
    "import detectron2.data.transforms as T\n",
    "from detectron2.evaluation import COCOEvaluator, inference_on_dataset\n",
    "\n",
    "setup_logger()"
   ]
  },
  {
   "cell_type": "code",
   "execution_count": 11,
   "id": "91a11e22-46f3-4414-ad7e-7ca97d66ad27",
   "metadata": {},
   "outputs": [],
   "source": [
    "warnings.filterwarnings('ignore')\n",
    "\n",
    "%matplotlib inline\n",
    "plt.style.use('ggplot')"
   ]
  },
  {
   "cell_type": "markdown",
   "id": "1b21ea00-1151-459a-b5d8-12271b86bdde",
   "metadata": {},
   "source": [
    "# Загрузка данных"
   ]
  },
  {
   "cell_type": "code",
   "execution_count": 15,
   "id": "401df77f-c910-4da5-95be-eb6b40f8b8d2",
   "metadata": {},
   "outputs": [
    {
     "name": "stdout",
     "output_type": "stream",
     "text": [
      "Number of studies: 6334\n"
     ]
    }
   ],
   "source": [
    "imdir = f'{config.DATA_ROOT_RESIZED}/img_sz_640'\n",
    "# Загрузим CSV полученный в ноутбуке с EDA\n",
    "train_df = pd.read_csv(f'{config.DATA_ROOT}/train_image_df.csv')\n",
    "print(f'Number of studies: {len(train_df)}')"
   ]
  },
  {
   "cell_type": "markdown",
   "id": "ae1f2a60-1eab-4bde-8ced-5af1b70e09e3",
   "metadata": {},
   "source": [
    "## Configs"
   ]
  },
  {
   "cell_type": "code",
   "execution_count": 16,
   "id": "165693f3-d7c0-4652-97c4-143607e39753",
   "metadata": {},
   "outputs": [
    {
     "name": "stdout",
     "output_type": "stream",
     "text": [
      "{'atypical': 0, 'indeterminate': 1, 'negative': 2, 'typical': 3}\n"
     ]
    }
   ],
   "source": [
    "classes = [\n",
    "    \"atypical\",\n",
    "    \"indeterminate\",\n",
    "    \"negative\",\n",
    "    \"typical\"\n",
    "]\n",
    "\n",
    "debug=False\n",
    "split_mode=\"valid20\" # Or  valid20 all_train\n",
    "\n",
    "category_name_to_id = {\n",
    "    class_name: index for index, class_name in enumerate(classes)\n",
    "}\n",
    "\n",
    "print(category_name_to_id)"
   ]
  },
  {
   "cell_type": "markdown",
   "id": "e1048ead-1856-46cc-a0c4-1b802c5f02c6",
   "metadata": {},
   "source": [
    "<h2 class=\"list-group-item list-group-item-action active\" data-toggle=\"list\" style='background:orange; border:0; color:white' role=\"tab\" aria-controls=\"home\"><center>[Подготовка данных]</center></h2>"
   ]
  },
  {
   "cell_type": "markdown",
   "id": "c923d46b-c933-4c31-80f2-8a73ef5b2a86",
   "metadata": {},
   "source": [
    "Для определения кстомного датасета, нам нужно создать **список словарей** (dataset_dicts) где каждый словарь содержит:\n",
    "\n",
    " - file_name: имя файла изображения\n",
    " - image_id: id изображения, (он же индекс).\n",
    " - height: высота изображения.\n",
    " - width: Ширина изображения.\n",
    " - annotation: основные аннотационные данные для обнаружения объектов, которые содержат следующее:\n",
    "   - bbox: bounding box pixel location имеющий shape n_boxes,4\n",
    "   - bbox_mode: Тут тспользуется BoxMode.XYXY_ABS. Абсолютное значение (x_min, y_min, x_max, y_max) аннотаций используется в bbox\n",
    "   - category_id: class label id for each bounding box, with shape (n_boxes,)\n",
    "\n",
    "\n",
    "*build_COVID19_data_dicts* для подготовки тренировочных даных\n",
    "*build_COVID19_data_dicts_test* для подготовки тестовых даных"
   ]
  },
  {
   "cell_type": "code",
   "execution_count": 18,
   "id": "8e5f9f2c-e796-44fc-a606-0ffd23801cfe",
   "metadata": {},
   "outputs": [],
   "source": [
    "df_meta = pd.read_csv(f'{config.DATA_ROOT_RESIZED}/img_sz_640/meta_sz_640.csv')"
   ]
  },
  {
   "cell_type": "code",
   "execution_count": 19,
   "id": "e9ddc89d-b92a-4a7d-a7de-ab80209fef3d",
   "metadata": {},
   "outputs": [
    {
     "data": {
      "text/html": [
       "<div>\n",
       "<style scoped>\n",
       "    .dataframe tbody tr th:only-of-type {\n",
       "        vertical-align: middle;\n",
       "    }\n",
       "\n",
       "    .dataframe tbody tr th {\n",
       "        vertical-align: top;\n",
       "    }\n",
       "\n",
       "    .dataframe thead th {\n",
       "        text-align: right;\n",
       "    }\n",
       "</style>\n",
       "<table border=\"1\" class=\"dataframe\">\n",
       "  <thead>\n",
       "    <tr style=\"text-align: right;\">\n",
       "      <th></th>\n",
       "      <th>image_id</th>\n",
       "      <th>dim0</th>\n",
       "      <th>dim1</th>\n",
       "      <th>split</th>\n",
       "    </tr>\n",
       "  </thead>\n",
       "  <tbody>\n",
       "    <tr>\n",
       "      <th>0</th>\n",
       "      <td>a29c5a68b07b</td>\n",
       "      <td>2320</td>\n",
       "      <td>2828</td>\n",
       "      <td>test</td>\n",
       "    </tr>\n",
       "    <tr>\n",
       "      <th>1</th>\n",
       "      <td>9850b5470fd6</td>\n",
       "      <td>2330</td>\n",
       "      <td>2382</td>\n",
       "      <td>test</td>\n",
       "    </tr>\n",
       "    <tr>\n",
       "      <th>2</th>\n",
       "      <td>8d6dea06a032</td>\n",
       "      <td>2422</td>\n",
       "      <td>3344</td>\n",
       "      <td>test</td>\n",
       "    </tr>\n",
       "    <tr>\n",
       "      <th>3</th>\n",
       "      <td>dfc5c09a50bc</td>\n",
       "      <td>1140</td>\n",
       "      <td>1387</td>\n",
       "      <td>test</td>\n",
       "    </tr>\n",
       "    <tr>\n",
       "      <th>4</th>\n",
       "      <td>7230234e120a</td>\n",
       "      <td>2318</td>\n",
       "      <td>2383</td>\n",
       "      <td>test</td>\n",
       "    </tr>\n",
       "    <tr>\n",
       "      <th>...</th>\n",
       "      <td>...</td>\n",
       "      <td>...</td>\n",
       "      <td>...</td>\n",
       "      <td>...</td>\n",
       "    </tr>\n",
       "    <tr>\n",
       "      <th>7592</th>\n",
       "      <td>729eca7b4c1c</td>\n",
       "      <td>2539</td>\n",
       "      <td>3050</td>\n",
       "      <td>train</td>\n",
       "    </tr>\n",
       "    <tr>\n",
       "      <th>7593</th>\n",
       "      <td>39d52f244db3</td>\n",
       "      <td>2320</td>\n",
       "      <td>2832</td>\n",
       "      <td>train</td>\n",
       "    </tr>\n",
       "    <tr>\n",
       "      <th>7594</th>\n",
       "      <td>d342f75ccb55</td>\n",
       "      <td>2320</td>\n",
       "      <td>2832</td>\n",
       "      <td>train</td>\n",
       "    </tr>\n",
       "    <tr>\n",
       "      <th>7595</th>\n",
       "      <td>0f0b5a304a47</td>\n",
       "      <td>2320</td>\n",
       "      <td>2832</td>\n",
       "      <td>train</td>\n",
       "    </tr>\n",
       "    <tr>\n",
       "      <th>7596</th>\n",
       "      <td>058d56025fa2</td>\n",
       "      <td>2544</td>\n",
       "      <td>3056</td>\n",
       "      <td>train</td>\n",
       "    </tr>\n",
       "  </tbody>\n",
       "</table>\n",
       "<p>7597 rows × 4 columns</p>\n",
       "</div>"
      ],
      "text/plain": [
       "          image_id  dim0  dim1  split\n",
       "0     a29c5a68b07b  2320  2828   test\n",
       "1     9850b5470fd6  2330  2382   test\n",
       "2     8d6dea06a032  2422  3344   test\n",
       "3     dfc5c09a50bc  1140  1387   test\n",
       "4     7230234e120a  2318  2383   test\n",
       "...            ...   ...   ...    ...\n",
       "7592  729eca7b4c1c  2539  3050  train\n",
       "7593  39d52f244db3  2320  2832  train\n",
       "7594  d342f75ccb55  2320  2832  train\n",
       "7595  0f0b5a304a47  2320  2832  train\n",
       "7596  058d56025fa2  2544  3056  train\n",
       "\n",
       "[7597 rows x 4 columns]"
      ]
     },
     "execution_count": 19,
     "metadata": {},
     "output_type": "execute_result"
    }
   ],
   "source": [
    "df_meta"
   ]
  },
  {
   "cell_type": "code",
   "execution_count": 20,
   "id": "cea94b49-8745-4849-9c9f-5bc254498c0a",
   "metadata": {},
   "outputs": [],
   "source": [
    "train_meta = df_meta[df_meta.split == 'train']"
   ]
  },
  {
   "cell_type": "code",
   "execution_count": 21,
   "id": "ec9a34b7-9ee3-453d-a490-461f261fbdbb",
   "metadata": {},
   "outputs": [
    {
     "data": {
      "text/plain": [
       "'d8ba599611e5'"
      ]
     },
     "execution_count": 21,
     "metadata": {},
     "output_type": "execute_result"
    }
   ],
   "source": [
    "image_id = train_meta.iloc[0,0]\n",
    "image_id"
   ]
  },
  {
   "cell_type": "code",
   "execution_count": 22,
   "id": "16b7065b-5a04-4757-9722-3b78f6f571c5",
   "metadata": {},
   "outputs": [
    {
     "ename": "TypeError",
     "evalue": "join() takes exactly one argument (0 given)",
     "output_type": "error",
     "traceback": [
      "\u001b[0;31m---------------------------------------------------------------------------\u001b[0m",
      "\u001b[0;31mTypeError\u001b[0m                                 Traceback (most recent call last)",
      "\u001b[0;32m/tmp/ipykernel_12975/3801302517.py\u001b[0m in \u001b[0;36m<module>\u001b[0;34m\u001b[0m\n\u001b[0;32m----> 1\u001b[0;31m \u001b[0mimg_path\u001b[0m \u001b[0;34m=\u001b[0m \u001b[0;34m' '\u001b[0m\u001b[0;34m.\u001b[0m\u001b[0mjoin\u001b[0m\u001b[0;34m(\u001b[0m\u001b[0;34m)\u001b[0m\u001b[0;34m\u001b[0m\u001b[0;34m\u001b[0m\u001b[0m\n\u001b[0m",
      "\u001b[0;31mTypeError\u001b[0m: join() takes exactly one argument (0 given)"
     ]
    }
   ],
   "source": [
    "img_path = ' '.join()"
   ]
  },
  {
   "cell_type": "code",
   "execution_count": null,
   "id": "bce33425-314c-4be3-a5b8-f1afe76b222d",
   "metadata": {},
   "outputs": [],
   "source": []
  }
 ],
 "metadata": {
  "kernelspec": {
   "display_name": "Python 3 (ipykernel)",
   "language": "python",
   "name": "python3"
  },
  "language_info": {
   "codemirror_mode": {
    "name": "ipython",
    "version": 3
   },
   "file_extension": ".py",
   "mimetype": "text/x-python",
   "name": "python",
   "nbconvert_exporter": "python",
   "pygments_lexer": "ipython3",
   "version": "3.8.10"
  }
 },
 "nbformat": 4,
 "nbformat_minor": 5
}
